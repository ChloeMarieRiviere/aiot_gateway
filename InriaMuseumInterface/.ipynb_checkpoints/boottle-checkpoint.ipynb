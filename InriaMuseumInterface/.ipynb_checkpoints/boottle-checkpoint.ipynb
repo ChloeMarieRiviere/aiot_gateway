{
 "cells": [
  {
   "cell_type": "code",
   "execution_count": 7,
   "id": "f5c6aa6a",
   "metadata": {},
   "outputs": [
    {
     "name": "stderr",
     "output_type": "stream",
     "text": [
      "Bottle v0.13-dev server starting up (using WSGIRefServer())...\n",
      "Listening on http://localhost:8080/\n",
      "Hit Ctrl-C to quit.\n",
      "\n"
     ]
    },
    {
     "name": "stdout",
     "output_type": "stream",
     "text": [
      "Arrêt du serveur Bottle...\n"
     ]
    },
    {
     "ename": "SystemExit",
     "evalue": "0",
     "output_type": "error",
     "traceback": [
      "An exception has occurred, use %tb to see the full traceback.\n",
      "\u001b[1;31mSystemExit\u001b[0m\u001b[1;31m:\u001b[0m 0\n"
     ]
    }
   ],
   "source": [
    "import signal\n",
    "import sys\n",
    "from bottle import route, run, template, error\n",
    "\n",
    "@route('/hello/<name>')\n",
    "def index(name):\n",
    "    try:\n",
    "        with open('1.svg', 'r') as svg_file:\n",
    "            svg_content = svg_file.read()\n",
    "        return template('<!DOCTYPE html><html><body><b>Hello {{name}}! Good Day </b><section>{{!svg}}</section></body></html>', svg=svg_content,name=name)\n",
    "    except Exception as e:\n",
    "        return template('<!DOCTYPE html><html><body><h1>Error</h1><p>{{error}}</p></body></html>', error=str(e))\n",
    "\n",
    "@error(500)\n",
    "def error500(error):\n",
    "    return template('<!DOCTYPE html><html><body><h1>Internal Server Error</h1><p>{{error}}</p></body></html>', error=error.body)\n",
    "\n",
    "    \n",
    "def signal_handler(sig, frame):\n",
    "    print('Arrêt du serveur Bottle...')\n",
    "    sys.exit(0)\n",
    "\n",
    "signal.signal(signal.SIGINT, signal_handler)\n",
    "\n",
    "run(host='localhost', port=8080)\n"
   ]
  },
  {
   "cell_type": "code",
   "execution_count": 9,
   "id": "26584976",
   "metadata": {},
   "outputs": [
    {
     "name": "stderr",
     "output_type": "stream",
     "text": [
      "Bottle v0.13-dev server starting up (using WSGIRefServer())...\n",
      "Listening on http://localhost:8080/\n",
      "Hit Ctrl-C to quit.\n",
      "\n"
     ]
    },
    {
     "name": "stdout",
     "output_type": "stream",
     "text": [
      "Arrêt du serveur Bottle...\n"
     ]
    },
    {
     "ename": "SystemExit",
     "evalue": "0",
     "output_type": "error",
     "traceback": [
      "An exception has occurred, use %tb to see the full traceback.\n",
      "\u001b[1;31mSystemExit\u001b[0m\u001b[1;31m:\u001b[0m 0\n"
     ]
    }
   ],
   "source": [
    "import signal\n",
    "import sys\n",
    "import traceback\n",
    "from bottle import route, run, template\n",
    "\n",
    "@route('/test/')\n",
    "def test():\n",
    "    with open('1.svg', 'r') as svg_file:\n",
    "        svg_content = svg_file.read()\n",
    "    return template('<!DOCTYPE html><html><body><section>{{!svg}}</section></body></html>', svg=svg_content)\n",
    "\n",
    "def signal_handler(sig, frame):\n",
    "    try:\n",
    "        print('Arrêt du serveur Bottle...')\n",
    "        sys.exit(0)\n",
    "    except Exception as e:\n",
    "        print('Exception during server shutdown:')\n",
    "        traceback.print_exc()\n",
    "\n",
    "signal.signal(signal.SIGINT, signal_handler)\n",
    "\n",
    "run(host='localhost', port=8080)\n"
   ]
  },
  {
   "cell_type": "code",
   "execution_count": 2,
   "id": "6b8dc8b7",
   "metadata": {},
   "outputs": [
    {
     "name": "stdout",
     "output_type": "stream",
     "text": [
      "Starting the Bottle server...\n"
     ]
    },
    {
     "name": "stderr",
     "output_type": "stream",
     "text": [
      "Bottle v0.13-dev server starting up (using WSGIRefServer())...\n",
      "Listening on http://localhost:8080/\n",
      "Hit Ctrl-C to quit.\n",
      "\n"
     ]
    },
    {
     "name": "stdout",
     "output_type": "stream",
     "text": [
      "Arrêt du serveur Bottle...\n"
     ]
    },
    {
     "ename": "SystemExit",
     "evalue": "0",
     "output_type": "error",
     "traceback": [
      "An exception has occurred, use %tb to see the full traceback.\n",
      "\u001b[1;31mSystemExit\u001b[0m\u001b[1;31m:\u001b[0m 0\n"
     ]
    }
   ],
   "source": [
    "import signal\n",
    "import sys\n",
    "import traceback\n",
    "from bottle import route, run, template\n",
    "\n",
    "@route('/test/')\n",
    "def test():\n",
    "    try:\n",
    "        print(\"Attempting to read the SVG file...\")\n",
    "        with open('1.svg', 'r') as svg_file:\n",
    "            svg_content = svg_file.read()\n",
    "        print(\"SVG file read successfully.\")\n",
    "        return template('<!DOCTYPE html><html><body><section>{{!svg}}</section></body></html>', svg=svg_content)\n",
    "    except Exception as e:\n",
    "        print(\"Error reading the SVG file:\", e)\n",
    "        return template('<!DOCTYPE html><html><body><h1>Error</h1><p>{{error}}</p></body></html>', error=str(e))\n",
    "\n",
    "def signal_handler(sig, frame):\n",
    "    try:\n",
    "        print('Arrêt du serveur Bottle...')\n",
    "        sys.exit(0)\n",
    "    except Exception as e:\n",
    "        print('Exception during server shutdown:')\n",
    "        traceback.print_exc()\n",
    "\n",
    "signal.signal(signal.SIGINT, signal_handler)\n",
    "\n",
    "print(\"Starting the Bottle server...\")\n",
    "run(host='localhost', port=8080)\n",
    "print(\"Bottle server started.\")\n"
   ]
  },
  {
   "cell_type": "code",
   "execution_count": null,
   "id": "a68155c6",
   "metadata": {},
   "outputs": [],
   "source": []
  }
 ],
 "metadata": {
  "kernelspec": {
   "display_name": "Python 3 (ipykernel)",
   "language": "python",
   "name": "python3"
  },
  "language_info": {
   "codemirror_mode": {
    "name": "ipython",
    "version": 3
   },
   "file_extension": ".py",
   "mimetype": "text/x-python",
   "name": "python",
   "nbconvert_exporter": "python",
   "pygments_lexer": "ipython3",
   "version": "3.11.5"
  }
 },
 "nbformat": 4,
 "nbformat_minor": 5
}
