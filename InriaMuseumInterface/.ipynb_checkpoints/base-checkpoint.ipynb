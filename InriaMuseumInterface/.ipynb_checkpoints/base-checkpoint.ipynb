{
 "cells": [
  {
   "cell_type": "code",
   "execution_count": null,
   "id": "c4995f2a",
   "metadata": {},
   "outputs": [
    {
     "name": "stderr",
     "output_type": "stream",
     "text": [
      "Bottle v0.13-dev server starting up (using WSGIRefServer())...\n",
      "Listening on http://localhost:8080/\n",
      "Hit Ctrl-C to quit.\n",
      "\n",
      "127.0.0.1 - - [08/Aug/2024 15:58:50] \"GET / HTTP/1.1\" 200 4969\n",
      "127.0.0.1 - - [08/Aug/2024 15:58:50] \"GET /demoMusee.css HTTP/1.1\" 200 194\n"
     ]
    }
   ],
   "source": [
    "from bottle import route, run, static_file\n",
    "\n",
    "@route('/')\n",
    "def index():\n",
    "    return static_file('demo.html', root='.')\n",
    "\n",
    "@route('/<filename:path>')\n",
    "def serve_static(filename):\n",
    "    return static_file(filename, root='.')\n",
    "\n",
    "run(host='localhost', port=8080)"
   ]
  }
 ],
 "metadata": {
  "kernelspec": {
   "display_name": "Python 3 (ipykernel)",
   "language": "python",
   "name": "python3"
  },
  "language_info": {
   "codemirror_mode": {
    "name": "ipython",
    "version": 3
   },
   "file_extension": ".py",
   "mimetype": "text/x-python",
   "name": "python",
   "nbconvert_exporter": "python",
   "pygments_lexer": "ipython3",
   "version": "3.11.5"
  }
 },
 "nbformat": 4,
 "nbformat_minor": 5
}
